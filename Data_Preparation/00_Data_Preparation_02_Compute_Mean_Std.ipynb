{
 "cells": [
  {
   "cell_type": "code",
   "execution_count": 1,
   "id": "fc9a8dc4-724c-4c39-88f7-2bc59774b797",
   "metadata": {},
   "outputs": [],
   "source": [
    "import xarray as xr\n",
    "from pyproj import Proj\n",
    "from dask.diagnostics import ProgressBar\n",
    "import numpy as np\n",
    "import matplotlib.pyplot as plt\n",
    "import xesmf as xe\n",
    "import rioxarray"
   ]
  },
  {
   "cell_type": "code",
   "execution_count": null,
   "id": "cc577960-927b-4093-9c1d-a0d16b62e698",
   "metadata": {},
   "outputs": [],
   "source": [
    "version = '0.2'"
   ]
  },
  {
   "cell_type": "code",
   "execution_count": null,
   "id": "c06bb510-edd1-4f71-bdc0-21e90387fc2a",
   "metadata": {},
   "outputs": [],
   "source": [
    "def open_elevation_data():\n",
    "    data = rioxarray.open_rasterio('/data/AIDL-UPC/wc2.1_30s_elev.tif')\n",
    "    data = data.rename({'x': 'lon','y': 'lat'})\n",
    "    data = data.assign_coords(lat=-data.lat)\n",
    "    return data"
   ]
  },
  {
   "cell_type": "markdown",
   "id": "2aaf021b-0b4f-4f6e-8177-869672c9ea68",
   "metadata": {},
   "source": [
    "# compute mean and std of the ERA5 data"
   ]
  },
  {
   "cell_type": "code",
   "execution_count": null,
   "id": "95b5499d-d8aa-4cc7-a604-0c91d38d5d74",
   "metadata": {},
   "outputs": [],
   "source": [
    "vars_name  = ['pr', 'rh', 'tas', 'tasmax', 'tasmin', 'sfcWind'] # 'sp',, 'uas', 'vas'\n",
    "path = '/home/vestella/data/NAS-data/terolink/archive/reanalysis/unversioned/era5/'"
   ]
  },
  {
   "cell_type": "code",
   "execution_count": null,
   "id": "f66809cd-e084-4e44-aed6-9f9038e9ce73",
   "metadata": {},
   "outputs": [],
   "source": [
    "lat_max = 720\n",
    "for ivar in range(len(vars_name)):\n",
    "    data_era5 = xr.open_mfdataset(path + vars_name[ivar]+'_day/'+vars_name[ivar] + '_*', engine = 'zarr' )\n",
    "    data_era5 = data_era5.sel(time = slice(*['2000', '2018']))\n",
    "    if ivar ==0:\n",
    "        mean = np.empty((len(vars_name), lat_max, data_era5.lon.shape[0]), dtype = np.float32)\n",
    "        std = np.empty((len(vars_name), lat_max, data_era5.lon.shape[0]), dtype = np.float32)\n",
    "        mmean = np.empty((len(vars_name)), dtype = np.float64)\n",
    "        sstd = np.empty((len(vars_name)), dtype = np.float64)\n",
    "    if lat_max!= data_era5.lat.shape[0]:\n",
    "        data_era5 = data_era5.isel(lat = np.arange(720))\n",
    "    print(data_era5.lat.values[0], data_era5.lat.values[-1])\n",
    "    mean_single = data_era5[vars_name[ivar]].mean(dim = 'time').values\n",
    "    std_single = data_era5[vars_name[ivar]].std(dim = 'time').values\n",
    "    mean_all = data_era5[vars_name[ivar]].mean()\n",
    "    std_all = data_era5[vars_name[ivar]].std()\n",
    "    \n",
    "    mean[ivar, :,:] = mean_single\n",
    "    std[ivar, :,:] = std_single\n",
    "    mmean[ivar] = mean_all\n",
    "    sstd[ivar] = std_all\n",
    "    \n",
    "da = xr.Dataset(\n",
    "data_vars=dict(\n",
    "    mean=([ \"variable\", \"lat\", \"lon\" ], mean),\n",
    "    std=([ \"variable\", \"lat\", \"lon\" ], std),\n",
    "    mean_all = ([ \"variable\"], mmean),\n",
    "    std_all=([ \"variable\" ], sstd),\n",
    "            ),\n",
    "coords=dict(\n",
    "    lon=([\"lon\"], data_era5.lon.values),\n",
    "    lat=([\"lat\"], data_era5.lat.values),\n",
    "    variable=vars_name,\n",
    "),\n",
    "attrs=dict(\n",
    "    description=\"std and mean of the period 2000-2018 for each of the variables\",\n",
    "),\n",
    ")\n",
    "\n",
    "da.to_netcdf('/data/AIDL-UPC/std_mean_variables_ERA5_v'+version+'.nc')\n",
    "print('/data/AIDL-UPC/std_mean_variables_ERA5_v'+version+'.nc')"
   ]
  },
  {
   "cell_type": "markdown",
   "id": "642ea09b-b49d-43b1-9f01-429f019c3a63",
   "metadata": {},
   "source": [
    "# compute mean and std of the elevation data"
   ]
  },
  {
   "cell_type": "code",
   "execution_count": null,
   "id": "bd61d809-7a9f-4bc9-90a7-6537d06ef11e",
   "metadata": {},
   "outputs": [],
   "source": [
    "data = open_elevation_data()"
   ]
  },
  {
   "cell_type": "code",
   "execution_count": null,
   "id": "e4892e08-85bd-47af-8d70-b54bb189abe2",
   "metadata": {},
   "outputs": [],
   "source": [
    "land_ocean = xr.where(data==data._FillValue,0,1)\n",
    "elevation = xr.where(data==data._FillValue,0,data)\n",
    "elevation_norm = (elevation-elevation.mean())/elevation.std()"
   ]
  },
  {
   "cell_type": "code",
   "execution_count": null,
   "id": "6cb36dd7-fe92-40c1-b2ee-69aef59808e1",
   "metadata": {},
   "outputs": [],
   "source": [
    "land_ocean.to_netcdf('/data/AIDL-UPC/land_ocean_mask_v'+version+'.nc')\n",
    "print('/data/AIDL-UPC/land_ocean_mask_v'+version+'.nc')\n",
    "\n",
    "elevation_norm.to_netcdf('/data/AIDL-UPC/elevation_norm_v'+version+'.nc')\n",
    "print('/data/AIDL-UPC/elevation_norm_v'+version+'.nc')\n",
    "\n",
    "elevation.to_netcdf('/data/AIDL-UPC/elevation_v'+version+'.nc')\n",
    "print('/data/AIDL-UPC/elevation_v'+version+'.nc')"
   ]
  },
  {
   "cell_type": "code",
   "execution_count": null,
   "id": "1cdfdc63-84e4-494a-9724-d047d54bee55",
   "metadata": {},
   "outputs": [],
   "source": []
  },
  {
   "cell_type": "code",
   "execution_count": null,
   "id": "7d582e16-ceff-4c44-83e7-b012cd57ff89",
   "metadata": {},
   "outputs": [],
   "source": []
  }
 ],
 "metadata": {
  "kernelspec": {
   "display_name": "Python 3 (ipykernel)",
   "language": "python",
   "name": "python3"
  },
  "language_info": {
   "codemirror_mode": {
    "name": "ipython",
    "version": 3
   },
   "file_extension": ".py",
   "mimetype": "text/x-python",
   "name": "python",
   "nbconvert_exporter": "python",
   "pygments_lexer": "ipython3",
   "version": "3.7.12"
  }
 },
 "nbformat": 4,
 "nbformat_minor": 5
}
