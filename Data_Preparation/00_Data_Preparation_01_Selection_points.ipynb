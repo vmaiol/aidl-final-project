{
 "cells": [
  {
   "cell_type": "code",
   "execution_count": 1,
   "id": "0942ddb0-449f-4610-9e13-f1170df927f2",
   "metadata": {},
   "outputs": [],
   "source": [
    "import xarray as xr\n",
    "from pyproj import Proj\n",
    "from dask.diagnostics import ProgressBar\n",
    "import numpy as np"
   ]
  },
  {
   "cell_type": "code",
   "execution_count": null,
   "id": "f0292a8c-300e-451b-b61e-b17dcccca3d0",
   "metadata": {},
   "outputs": [],
   "source": [
    "# select lat y lons from the points of interest that not are nan\n",
    "path  = '/data/AIDL-UPC/daymet_v4_daily/prcp/used/short/'\n",
    "file = 'daymet_v4_daily_na_prcp_2001_sel200.nc'\n",
    "\n",
    "data = xr.open_dataset(path + file )\n",
    "c = data.prcp.values\n",
    "c = np.mean(c,  0)\n",
    "lats_nonan =data.lat.values[~np.isnan(c)]\n",
    "lons_nonan =data.lon.values[~np.isnan(c)]\n",
    "\n",
    "c = np.where((lons_nonan<-45) & (lons_nonan>-165))\n",
    "latitudes = lats_nonan[c]\n",
    "longitudes = lons_nonan[c]\n",
    "\n",
    "\n"
   ]
  },
  {
   "cell_type": "code",
   "execution_count": null,
   "id": "65bc2b16-33e4-4b5b-a8ff-44b4f1d006c0",
   "metadata": {},
   "outputs": [],
   "source": [
    "ds_out = xr.Dataset(\n",
    "            {\n",
    "                \"lat\": ([\"lat\"], latitudes),\n",
    "                \"lon\": ([\"lon\"], longitudes),\n",
    "            }\n",
    "        )"
   ]
  },
  {
   "cell_type": "code",
   "execution_count": null,
   "id": "4e537ae0-f473-4d31-857a-2a206aa59654",
   "metadata": {},
   "outputs": [],
   "source": [
    "ds_out.to_netcdf('/data/AIDL-UPC/prcp/used/short/daymet_v4_daily_na_prcp_sel200_latlon_nonan.nc')"
   ]
  }
 ],
 "metadata": {
  "kernelspec": {
   "display_name": "Python 3 (ipykernel)",
   "language": "python",
   "name": "python3"
  },
  "language_info": {
   "codemirror_mode": {
    "name": "ipython",
    "version": 3
   },
   "file_extension": ".py",
   "mimetype": "text/x-python",
   "name": "python",
   "nbconvert_exporter": "python",
   "pygments_lexer": "ipython3",
   "version": "3.7.12"
  }
 },
 "nbformat": 4,
 "nbformat_minor": 5
}
