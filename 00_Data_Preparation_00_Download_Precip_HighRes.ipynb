{
 "cells": [
  {
   "cell_type": "code",
   "execution_count": null,
   "id": "0a744589-1372-4bfc-bd6a-a1149efc47ca",
   "metadata": {},
   "outputs": [],
   "source": [
    "import xarray as xr\n",
    "import requests"
   ]
  },
  {
   "cell_type": "code",
   "execution_count": null,
   "id": "088180ad-b468-497c-a4cf-27996fadf21a",
   "metadata": {},
   "outputs": [],
   "source": []
  },
  {
   "cell_type": "code",
   "execution_count": null,
   "id": "39a40d07-8a03-4149-a7ec-8b77b43a4a9a",
   "metadata": {},
   "outputs": [],
   "source": [
    "url = 'https://thredds.daac.ornl.gov/thredds/fileServer/ornldaac/2129/daymet_v4_daily_na_prcp_'\n",
    "\n",
    "for i in range(1990,2021):\n",
    "    r = requests.get(url + str(i)+'.nc')\n",
    "    open('/home/vestella/data/AIDL-UPC/daymet_v4_daily_na_prcp_'+ str(i)+'.nc', 'wb').write(r.content)\n",
    "    print('daymet_v4_daily_na_prcp_'+ str(i)+'.nc')"
   ]
  },
  {
   "cell_type": "code",
   "execution_count": null,
   "id": "15bdbbef-0e42-4cb1-815d-4d83c54aad8c",
   "metadata": {},
   "outputs": [],
   "source": []
  },
  {
   "cell_type": "code",
   "execution_count": null,
   "id": "cd27a699-e133-4017-a3ad-986863884eff",
   "metadata": {},
   "outputs": [],
   "source": []
  },
  {
   "cell_type": "code",
   "execution_count": null,
   "id": "356ab38f-d152-411a-827b-8cedfa20cca1",
   "metadata": {},
   "outputs": [],
   "source": []
  }
 ],
 "metadata": {
  "kernelspec": {
   "display_name": "Python 3 (ipykernel)",
   "language": "python",
   "name": "python3"
  },
  "language_info": {
   "codemirror_mode": {
    "name": "ipython",
    "version": 3
   },
   "file_extension": ".py",
   "mimetype": "text/x-python",
   "name": "python",
   "nbconvert_exporter": "python",
   "pygments_lexer": "ipython3",
   "version": "3.7.12"
  }
 },
 "nbformat": 4,
 "nbformat_minor": 5
}
