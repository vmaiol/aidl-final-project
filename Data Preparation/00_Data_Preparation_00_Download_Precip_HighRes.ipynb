{
 "cells": [
  {
   "cell_type": "code",
   "execution_count": null,
   "id": "0a744589-1372-4bfc-bd6a-a1149efc47ca",
   "metadata": {},
   "outputs": [],
   "source": [
    "import xarray as xr\n",
    "import requests"
   ]
  },
  {
   "cell_type": "markdown",
   "id": "a90d6b08-5354-4bcc-8371-c7d1b7ed0218",
   "metadata": {},
   "source": [
    "# Code to download the High resolution precipitation"
   ]
  },
  {
   "cell_type": "code",
   "execution_count": null,
   "id": "39a40d07-8a03-4149-a7ec-8b77b43a4a9a",
   "metadata": {},
   "outputs": [],
   "source": [
    "url = 'https://thredds.daac.ornl.gov/thredds/fileServer/ornldaac/2129/daymet_v4_daily_na_prcp_'\n",
    "\n",
    "for i in range(1990,2021):\n",
    "    r = requests.get(url + str(i)+'.nc')\n",
    "    open('/home/vestella/data/AIDL-UPC/daymet_v4_daily_na_prcp_'+ str(i)+'.nc', 'wb').write(r.content)\n",
    "    print('daymet_v4_daily_na_prcp_'+ str(i)+'.nc')"
   ]
  }
 ],
 "metadata": {
  "kernelspec": {
   "display_name": "Python 3 (ipykernel)",
   "language": "python",
   "name": "python3"
  },
  "language_info": {
   "codemirror_mode": {
    "name": "ipython",
    "version": 3
   },
   "file_extension": ".py",
   "mimetype": "text/x-python",
   "name": "python",
   "nbconvert_exporter": "python",
   "pygments_lexer": "ipython3",
   "version": "3.7.12"
  }
 },
 "nbformat": 4,
 "nbformat_minor": 5
}
